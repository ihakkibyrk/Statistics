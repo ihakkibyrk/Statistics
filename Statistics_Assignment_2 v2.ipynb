{
  "nbformat": 4,
  "nbformat_minor": 2,
  "metadata": {
    "colab": {
      "name": "Statistics Assignment-2.ipynb",
      "provenance": [],
      "collapsed_sections": []
    },
    "kernelspec": {
      "name": "python3",
      "display_name": "Python 3.9.1 64-bit"
    },
    "language_info": {
      "name": "python",
      "version": "3.9.1",
      "mimetype": "text/x-python",
      "codemirror_mode": {
        "name": "ipython",
        "version": 3
      },
      "pygments_lexer": "ipython3",
      "nbconvert_exporter": "python",
      "file_extension": ".py"
    },
    "interpreter": {
      "hash": "269b2124ad3657afced20a0f4d574e88aea629d711f21af5f8c9ad65b5d66001"
    }
  },
  "cells": [
    {
      "cell_type": "markdown",
      "source": [
        "## Descriptive Statistics"
      ],
      "metadata": {
        "id": "K7S4cEyZLTp7"
      }
    },
    {
      "cell_type": "code",
      "execution_count": null,
      "source": [],
      "outputs": [],
      "metadata": {
        "id": "CCZJzVnVT8bw"
      }
    },
    {
      "cell_type": "markdown",
      "source": [
        " Import **NumPy**, **SciPy**, and **Pandas**"
      ],
      "metadata": {
        "id": "vZRYVyc8H7hi"
      }
    },
    {
      "cell_type": "code",
      "execution_count": 1,
      "source": [
        "import numpy as np\r\n",
        "import pandas as pd\r\n",
        "from scipy import stats"
      ],
      "outputs": [],
      "metadata": {
        "id": "7ShN0klrHIk3"
      }
    },
    {
      "cell_type": "markdown",
      "source": [
        " Randomly generate 1,000 samples from the normal distribution using `np.random.normal()`(mean = 100, standard deviation = 15)"
      ],
      "metadata": {
        "id": "_SaQURIqIA6d"
      }
    },
    {
      "cell_type": "code",
      "execution_count": 2,
      "source": [
        "samples = np.random.normal(100,15, 1000)"
      ],
      "outputs": [],
      "metadata": {
        "id": "Jyw_FMX0IRkm"
      }
    },
    {
      "cell_type": "markdown",
      "source": [
        "Compute the **mean**, **median**, and **mode**"
      ],
      "metadata": {
        "id": "CDF8m3a4IYOC"
      }
    },
    {
      "cell_type": "code",
      "execution_count": 10,
      "source": [
        "mean = np.mean(samples)\r\n",
        "median = np.median(samples)\r\n",
        "mode = stats.mode(samples)\r\n",
        "\r\n",
        "print(\"mean =\" ,mean,\"\\n\",\"median =\", median,\"\\n\",\"mode =\", mode)"
      ],
      "outputs": [
        {
          "output_type": "stream",
          "name": "stdout",
          "text": [
            "mean = 99.92981124876609 \n",
            " median = 100.13424898461835 \n",
            " mode = ModeResult(mode=array([33.40837236]), count=array([1]))\n"
          ]
        }
      ],
      "metadata": {
        "id": "ZKbeqxaKIoNs"
      }
    },
    {
      "cell_type": "markdown",
      "source": [
        "Compute the **min**, **max**, **Q1**, **Q3**, and **interquartile range**"
      ],
      "metadata": {
        "id": "skT8m39XI60w"
      }
    },
    {
      "cell_type": "code",
      "execution_count": 11,
      "source": [
        "min = np.min(samples)\r\n",
        "max = np.max(samples)\r\n",
        "q1 = np.quantile(samples, 0.25)\r\n",
        "q3 = np.quantile(samples, 0.75)\r\n",
        "iqr = q3 - q1\r\n",
        "\r\n",
        "print(\"min = \", min, \"\\n\",\"max =\", max, \"\\n\", \"q1 =\", q1, \"\\n\", \"q3 =\", q3, \"\\n\", \"iqr =\", iqr)"
      ],
      "outputs": [
        {
          "output_type": "stream",
          "name": "stdout",
          "text": [
            "min =  33.40837235797831 \n",
            " max = 144.26204699932617 \n",
            " q1 = 90.46992523760213 \n",
            " q3 = 110.54597492891375 \n",
            " iqr = 20.076049691311624\n"
          ]
        }
      ],
      "metadata": {
        "id": "VaiDphm8It0O"
      }
    },
    {
      "cell_type": "markdown",
      "source": [
        "Compute the **variance** and **standard deviation**"
      ],
      "metadata": {
        "id": "m53Dv3n5JHQi"
      }
    },
    {
      "cell_type": "code",
      "execution_count": 12,
      "source": [
        "variance = np.var(samples)\r\n",
        "std_dev = np.std(samples)\r\n",
        "\r\n",
        "print(\"variance =\", variance, \"\\n\", \"std_dev =\", std_dev)"
      ],
      "outputs": [
        {
          "output_type": "stream",
          "name": "stdout",
          "text": [
            "variance = 221.9551995560252 \n",
            " std_dev = 14.898160945433004\n"
          ]
        }
      ],
      "metadata": {
        "id": "6JFaAYdrJbeN"
      }
    },
    {
      "cell_type": "markdown",
      "source": [
        "Compute the **skewness** and **kurtosis**"
      ],
      "metadata": {
        "id": "5eup4hI1JzqX"
      }
    },
    {
      "cell_type": "code",
      "execution_count": 13,
      "source": [
        "skewness = stats.skew(samples)\r\n",
        "kurtosis = stats.kurtosis(samples)\r\n",
        "print(\"skewness =\", skewness, \"\\n\", \"kurtosis =\", kurtosis)"
      ],
      "outputs": [
        {
          "output_type": "stream",
          "name": "stdout",
          "text": [
            "skewness = -0.16555345117473905 \n",
            " kurtosis = 0.16415076274871998\n"
          ]
        }
      ],
      "metadata": {
        "id": "YO3obyDnJ3_D"
      }
    },
    {
      "cell_type": "markdown",
      "source": [
        "## NumPy Correlation Calculation"
      ],
      "metadata": {
        "id": "a5UNc8PUKnbU"
      }
    },
    {
      "cell_type": "markdown",
      "source": [
        "Create an array x of integers between 10 (inclusive) and 20 (exclusive). Use `np.arange()`"
      ],
      "metadata": {
        "id": "cLiqxE1CMNTg"
      }
    },
    {
      "cell_type": "code",
      "execution_count": 14,
      "source": [
        "x = np.arange(10,20)\r\n",
        "x"
      ],
      "outputs": [
        {
          "output_type": "execute_result",
          "data": {
            "text/plain": [
              "array([10, 11, 12, 13, 14, 15, 16, 17, 18, 19])"
            ]
          },
          "metadata": {},
          "execution_count": 14
        }
      ],
      "metadata": {
        "id": "5LAaQ6w5L-2L"
      }
    },
    {
      "cell_type": "markdown",
      "source": [
        "Then use `np.array()` to create a second array y containing 10 arbitrary integers."
      ],
      "metadata": {
        "id": "qyCIaukNMZPf"
      }
    },
    {
      "cell_type": "code",
      "execution_count": 20,
      "source": [
        "y = np.array([5, 21, 28, 32, 33, 40, 43, 45, 55, 62])\r\n",
        "y"
      ],
      "outputs": [
        {
          "output_type": "execute_result",
          "data": {
            "text/plain": [
              "array([ 5, 21, 28, 32, 33, 40, 43, 45, 55, 62])"
            ]
          },
          "metadata": {},
          "execution_count": 20
        }
      ],
      "metadata": {
        "id": "p27eW__gNMdh"
      }
    },
    {
      "cell_type": "markdown",
      "source": [
        "Once you have two arrays of the same length, you can compute the **correlation coefficient** between x and y"
      ],
      "metadata": {
        "id": "Kh_VeKwINSqS"
      }
    },
    {
      "cell_type": "code",
      "execution_count": 22,
      "source": [
        "r = np.corrcoef(x, y)\r\n",
        "r"
      ],
      "outputs": [
        {
          "output_type": "execute_result",
          "data": {
            "text/plain": [
              "array([[1.        , 0.97296584],\n",
              "       [0.97296584, 1.        ]])"
            ]
          },
          "metadata": {},
          "execution_count": 22
        }
      ],
      "metadata": {
        "id": "yrtC6rPkNSDC"
      }
    },
    {
      "cell_type": "markdown",
      "source": [
        "## Pandas Correlation Calculation"
      ],
      "metadata": {
        "id": "vXieLjYiNtPi"
      }
    },
    {
      "cell_type": "markdown",
      "source": [
        "Run the code below"
      ],
      "metadata": {
        "id": "z56t0k0qNvkr"
      }
    },
    {
      "cell_type": "code",
      "execution_count": 36,
      "source": [
        "x = pd.Series(range(10, 20))\r\n",
        "y = pd.Series([2, 1, 4, 5, 8, 12, 18, 25, 96, 48])"
      ],
      "outputs": [],
      "metadata": {
        "id": "9AVBMJCyNuwb"
      }
    },
    {
      "cell_type": "markdown",
      "source": [
        "Call the relevant method  to calculate Pearson's r correlation."
      ],
      "metadata": {
        "id": "ZajVXYe2OCih"
      }
    },
    {
      "cell_type": "code",
      "execution_count": 41,
      "source": [
        "dic = {'x':x, 'y':y}\r\n",
        "df = pd.DataFrame(data = dic)\r\n",
        "r = df.corr(method='pearson')\r\n",
        "r"
      ],
      "outputs": [
        {
          "output_type": "execute_result",
          "data": {
            "text/html": [
              "<div>\n",
              "<style scoped>\n",
              "    .dataframe tbody tr th:only-of-type {\n",
              "        vertical-align: middle;\n",
              "    }\n",
              "\n",
              "    .dataframe tbody tr th {\n",
              "        vertical-align: top;\n",
              "    }\n",
              "\n",
              "    .dataframe thead th {\n",
              "        text-align: right;\n",
              "    }\n",
              "</style>\n",
              "<table border=\"1\" class=\"dataframe\">\n",
              "  <thead>\n",
              "    <tr style=\"text-align: right;\">\n",
              "      <th></th>\n",
              "      <th>x</th>\n",
              "      <th>y</th>\n",
              "    </tr>\n",
              "  </thead>\n",
              "  <tbody>\n",
              "    <tr>\n",
              "      <th>x</th>\n",
              "      <td>1.00000</td>\n",
              "      <td>0.75864</td>\n",
              "    </tr>\n",
              "    <tr>\n",
              "      <th>y</th>\n",
              "      <td>0.75864</td>\n",
              "      <td>1.00000</td>\n",
              "    </tr>\n",
              "  </tbody>\n",
              "</table>\n",
              "</div>"
            ],
            "text/plain": [
              "         x        y\n",
              "x  1.00000  0.75864\n",
              "y  0.75864  1.00000"
            ]
          },
          "metadata": {},
          "execution_count": 41
        }
      ],
      "metadata": {
        "id": "Ak_rkzbLOafj"
      }
    },
    {
      "cell_type": "markdown",
      "source": [
        "OPTIONAL. Call the relevant method to calculate Spearman's rho correlation."
      ],
      "metadata": {
        "id": "1CygSbnROb9V"
      }
    },
    {
      "cell_type": "code",
      "execution_count": 43,
      "source": [
        "rho = df.corr(method='spearman')\r\n",
        "rho"
      ],
      "outputs": [
        {
          "output_type": "execute_result",
          "data": {
            "text/html": [
              "<div>\n",
              "<style scoped>\n",
              "    .dataframe tbody tr th:only-of-type {\n",
              "        vertical-align: middle;\n",
              "    }\n",
              "\n",
              "    .dataframe tbody tr th {\n",
              "        vertical-align: top;\n",
              "    }\n",
              "\n",
              "    .dataframe thead th {\n",
              "        text-align: right;\n",
              "    }\n",
              "</style>\n",
              "<table border=\"1\" class=\"dataframe\">\n",
              "  <thead>\n",
              "    <tr style=\"text-align: right;\">\n",
              "      <th></th>\n",
              "      <th>x</th>\n",
              "      <th>y</th>\n",
              "    </tr>\n",
              "  </thead>\n",
              "  <tbody>\n",
              "    <tr>\n",
              "      <th>x</th>\n",
              "      <td>1.000000</td>\n",
              "      <td>0.975758</td>\n",
              "    </tr>\n",
              "    <tr>\n",
              "      <th>y</th>\n",
              "      <td>0.975758</td>\n",
              "      <td>1.000000</td>\n",
              "    </tr>\n",
              "  </tbody>\n",
              "</table>\n",
              "</div>"
            ],
            "text/plain": [
              "          x         y\n",
              "x  1.000000  0.975758\n",
              "y  0.975758  1.000000"
            ]
          },
          "metadata": {},
          "execution_count": 43
        }
      ],
      "metadata": {
        "id": "xp_QkXwmOlYY"
      }
    },
    {
      "cell_type": "markdown",
      "source": [
        "## Seaborn Dataset Tips"
      ],
      "metadata": {
        "id": "we7pg7kdOo7y"
      }
    },
    {
      "cell_type": "markdown",
      "source": [
        "Import Seaborn Library"
      ],
      "metadata": {
        "id": "VlzgFKN7OvqX"
      }
    },
    {
      "cell_type": "code",
      "execution_count": 44,
      "source": [
        "import seaborn as sns"
      ],
      "outputs": [],
      "metadata": {
        "id": "t-49JRRqO4pw"
      }
    },
    {
      "cell_type": "markdown",
      "source": [
        "Load \"tips\" dataset from Seaborn"
      ],
      "metadata": {
        "id": "0INVBB4tO4y4"
      }
    },
    {
      "cell_type": "code",
      "execution_count": 45,
      "source": [
        "tips = sns.load_dataset(\"tips\")"
      ],
      "outputs": [],
      "metadata": {
        "id": "kieLvcM1PBv7"
      }
    },
    {
      "cell_type": "markdown",
      "source": [
        "Generate descriptive statistics include those that summarize the central tendency, dispersion"
      ],
      "metadata": {
        "id": "o2ISqVQrPh5S"
      }
    },
    {
      "cell_type": "code",
      "execution_count": 47,
      "source": [
        "tips.describe().T"
      ],
      "outputs": [
        {
          "output_type": "execute_result",
          "data": {
            "text/html": [
              "<div>\n",
              "<style scoped>\n",
              "    .dataframe tbody tr th:only-of-type {\n",
              "        vertical-align: middle;\n",
              "    }\n",
              "\n",
              "    .dataframe tbody tr th {\n",
              "        vertical-align: top;\n",
              "    }\n",
              "\n",
              "    .dataframe thead th {\n",
              "        text-align: right;\n",
              "    }\n",
              "</style>\n",
              "<table border=\"1\" class=\"dataframe\">\n",
              "  <thead>\n",
              "    <tr style=\"text-align: right;\">\n",
              "      <th></th>\n",
              "      <th>count</th>\n",
              "      <th>mean</th>\n",
              "      <th>std</th>\n",
              "      <th>min</th>\n",
              "      <th>25%</th>\n",
              "      <th>50%</th>\n",
              "      <th>75%</th>\n",
              "      <th>max</th>\n",
              "    </tr>\n",
              "  </thead>\n",
              "  <tbody>\n",
              "    <tr>\n",
              "      <th>total_bill</th>\n",
              "      <td>244.0</td>\n",
              "      <td>19.785943</td>\n",
              "      <td>8.902412</td>\n",
              "      <td>3.07</td>\n",
              "      <td>13.3475</td>\n",
              "      <td>17.795</td>\n",
              "      <td>24.1275</td>\n",
              "      <td>50.81</td>\n",
              "    </tr>\n",
              "    <tr>\n",
              "      <th>tip</th>\n",
              "      <td>244.0</td>\n",
              "      <td>2.998279</td>\n",
              "      <td>1.383638</td>\n",
              "      <td>1.00</td>\n",
              "      <td>2.0000</td>\n",
              "      <td>2.900</td>\n",
              "      <td>3.5625</td>\n",
              "      <td>10.00</td>\n",
              "    </tr>\n",
              "    <tr>\n",
              "      <th>size</th>\n",
              "      <td>244.0</td>\n",
              "      <td>2.569672</td>\n",
              "      <td>0.951100</td>\n",
              "      <td>1.00</td>\n",
              "      <td>2.0000</td>\n",
              "      <td>2.000</td>\n",
              "      <td>3.0000</td>\n",
              "      <td>6.00</td>\n",
              "    </tr>\n",
              "  </tbody>\n",
              "</table>\n",
              "</div>"
            ],
            "text/plain": [
              "            count       mean       std   min      25%     50%      75%    max\n",
              "total_bill  244.0  19.785943  8.902412  3.07  13.3475  17.795  24.1275  50.81\n",
              "tip         244.0   2.998279  1.383638  1.00   2.0000   2.900   3.5625  10.00\n",
              "size        244.0   2.569672  0.951100  1.00   2.0000   2.000   3.0000   6.00"
            ]
          },
          "metadata": {},
          "execution_count": 47
        }
      ],
      "metadata": {
        "id": "FyFvmdbJPVg6"
      }
    },
    {
      "cell_type": "markdown",
      "source": [
        "Call the relevant method to calculate pairwise Pearson's r correlation of columns"
      ],
      "metadata": {
        "id": "3yCRK4VJPzRo"
      }
    },
    {
      "cell_type": "code",
      "execution_count": 50,
      "source": [
        "sns.pairplot(data= tips)"
      ],
      "outputs": [
        {
          "output_type": "execute_result",
          "data": {
            "text/plain": [
              "<seaborn.axisgrid.PairGrid at 0x251676db400>"
            ]
          },
          "metadata": {},
          "execution_count": 50
        },
        {
          "output_type": "display_data",
          "data": {
            "image/png": "[encoded data removed]",
            "text/plain": [
              "<Figure size 540x540 with 12 Axes>"
            ]
          },
          "metadata": {
            "needs_background": "light"
          }
        }
      ],
      "metadata": {
        "id": "qwvGzDU8PGnM"
      }
    },
    {
      "cell_type": "code",
      "execution_count": null,
      "source": [],
      "outputs": [],
      "metadata": {}
    }
  ]
}